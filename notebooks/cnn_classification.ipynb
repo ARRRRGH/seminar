{
 "cells": [
  {
   "cell_type": "code",
   "execution_count": 1,
   "metadata": {},
   "outputs": [],
   "source": [
    "SEMINAR_PATH = '/home/jim/PycharmProjects'\n",
    "\n",
    "import sys\n",
    "sys.path.append(SEMINAR_PATH)\n",
    "\n",
    "import seminar\n",
    "from seminar.learn.cnn_lstm import convlstm, convgru\n",
    "from seminar.learn.cnn import LSTM\n",
    "\n",
    "import os\n",
    "import numpy as np\n",
    "import matplotlib.pyplot as plt\n",
    "\n",
    "from pytorch_lightning import Trainer"
   ]
  },
  {
   "cell_type": "code",
   "execution_count": 2,
   "metadata": {},
   "outputs": [
    {
     "data": {
      "text/plain": [
       "<module 'seminar' (namespace)>"
      ]
     },
     "execution_count": 2,
     "metadata": {},
     "output_type": "execute_result"
    }
   ],
   "source": [
    "from importlib import reload\n",
    "reload(seminar)"
   ]
  },
  {
   "cell_type": "code",
   "execution_count": 3,
   "metadata": {},
   "outputs": [
    {
     "data": {
      "text/html": [
       "<style>.container { width:100% !important; }</style>"
      ],
      "text/plain": [
       "<IPython.core.display.HTML object>"
      ]
     },
     "metadata": {},
     "output_type": "display_data"
    }
   ],
   "source": [
    "from IPython.core.display import display, HTML\n",
    "display(HTML(\"<style>.container { width:100% !important; }</style>\"))"
   ]
  },
  {
   "cell_type": "markdown",
   "metadata": {},
   "source": [
    "### Build Network"
   ]
  },
  {
   "cell_type": "code",
   "execution_count": 4,
   "metadata": {},
   "outputs": [],
   "source": [
    "trn = '/home/jim/PycharmProjects/seminar/notebooks/data/spv/trn'\n",
    "val = '/home/jim/PycharmProjects/seminar/notebooks/data/spv/trn'"
   ]
  },
  {
   "cell_type": "code",
   "execution_count": 5,
   "metadata": {},
   "outputs": [],
   "source": [
    "classes = np.unique(list(map(int, [x[1] for x in os.walk(trn)][0] + [x[1] for x in os.walk(val)][0])))"
   ]
  },
  {
   "cell_type": "code",
   "execution_count": 9,
   "metadata": {},
   "outputs": [],
   "source": [
    "sample_image = np.load('/home/jim/PycharmProjects/seminar/notebooks/data/spv/trn/14/116_1412.npy')"
   ]
  },
  {
   "cell_type": "code",
   "execution_count": 10,
   "metadata": {},
   "outputs": [
    {
     "data": {
      "text/plain": [
       "<matplotlib.colorbar.Colorbar at 0x7f65ac1e7cd0>"
      ]
     },
     "execution_count": 10,
     "metadata": {},
     "output_type": "execute_result"
    },
    {
     "data": {
      "image/png": "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\n",
      "text/plain": [
       "<Figure size 432x288 with 2 Axes>"
      ]
     },
     "metadata": {
      "needs_background": "light"
     },
     "output_type": "display_data"
    }
   ],
   "source": [
    "plt.imshow(sample_image[1,1])\n",
    "plt.colorbar()"
   ]
  },
  {
   "cell_type": "code",
   "execution_count": 11,
   "metadata": {},
   "outputs": [],
   "source": [
    "lstm = LSTM(in_channels=2, num_layers=5, hidden_channels=[5, 4, 3, 2, 1], \n",
    "            kernel_size=[(5, 5), (5, 5), (5, 5), (3, 3), (3, 3)],\n",
    "            train_image_folder=trn,\n",
    "            val_image_folder=val,\n",
    "            classes=classes, n_jobs=6, batch_size=32, input_shape=sample_image[0, 0].shape)"
   ]
  },
  {
   "cell_type": "code",
<<<<<<< HEAD
   "execution_count": 12,
=======
   "execution_count": 8,
>>>>>>> 14f4e91469e0990df119bc38ac34e6f8e065a0b3
   "metadata": {},
   "outputs": [
    {
     "data": {
      "application/vnd.jupyter.widget-view+json": {
       "model_id": "211fd35db8f749659e17572838296cb4",
       "version_major": 2,
       "version_minor": 0
      },
      "text/plain": [
       "HBox(children=(FloatProgress(value=0.0, description='Validation sanity check', layout=Layout(flex='2'), max=5.…"
      ]
     },
     "metadata": {},
     "output_type": "display_data"
    },
    {
     "ename": "TypeError",
     "evalue": "'int' object is not iterable",
     "output_type": "error",
     "traceback": [
      "\u001b[0;31m---------------------------------------------------------------------------\u001b[0m",
      "\u001b[0;31mTypeError\u001b[0m                                 Traceback (most recent call last)",
      "\u001b[0;32m<ipython-input-12-d43a66dff0e3>\u001b[0m in \u001b[0;36m<module>\u001b[0;34m\u001b[0m\n\u001b[1;32m      1\u001b[0m \u001b[0mtrainer\u001b[0m \u001b[0;34m=\u001b[0m \u001b[0mTrainer\u001b[0m\u001b[0;34m(\u001b[0m\u001b[0mcheck_val_every_n_epoch\u001b[0m\u001b[0;34m=\u001b[0m\u001b[0;36m2\u001b[0m\u001b[0;34m)\u001b[0m\u001b[0;34m\u001b[0m\u001b[0;34m\u001b[0m\u001b[0m\n\u001b[0;32m----> 2\u001b[0;31m \u001b[0mtrainer\u001b[0m\u001b[0;34m.\u001b[0m\u001b[0mfit\u001b[0m\u001b[0;34m(\u001b[0m\u001b[0mlstm\u001b[0m\u001b[0;34m)\u001b[0m\u001b[0;34m\u001b[0m\u001b[0;34m\u001b[0m\u001b[0m\n\u001b[0m",
      "\u001b[0;32m~/miniconda3/envs/seminar/lib/python3.7/site-packages/pytorch_lightning/trainer/trainer.py\u001b[0m in \u001b[0;36mfit\u001b[0;34m(self, model, train_dataloader, val_dataloaders, test_dataloaders)\u001b[0m\n\u001b[1;32m    628\u001b[0m             \u001b[0mself\u001b[0m\u001b[0;34m.\u001b[0m\u001b[0moptimizers\u001b[0m\u001b[0;34m,\u001b[0m \u001b[0mself\u001b[0m\u001b[0;34m.\u001b[0m\u001b[0mlr_schedulers\u001b[0m \u001b[0;34m=\u001b[0m \u001b[0mself\u001b[0m\u001b[0;34m.\u001b[0m\u001b[0minit_optimizers\u001b[0m\u001b[0;34m(\u001b[0m\u001b[0mmodel\u001b[0m\u001b[0;34m.\u001b[0m\u001b[0mconfigure_optimizers\u001b[0m\u001b[0;34m(\u001b[0m\u001b[0;34m)\u001b[0m\u001b[0;34m)\u001b[0m\u001b[0;34m\u001b[0m\u001b[0;34m\u001b[0m\u001b[0m\n\u001b[1;32m    629\u001b[0m \u001b[0;34m\u001b[0m\u001b[0m\n\u001b[0;32m--> 630\u001b[0;31m             \u001b[0mself\u001b[0m\u001b[0;34m.\u001b[0m\u001b[0mrun_pretrain_routine\u001b[0m\u001b[0;34m(\u001b[0m\u001b[0mmodel\u001b[0m\u001b[0;34m)\u001b[0m\u001b[0;34m\u001b[0m\u001b[0;34m\u001b[0m\u001b[0m\n\u001b[0m\u001b[1;32m    631\u001b[0m \u001b[0;34m\u001b[0m\u001b[0m\n\u001b[1;32m    632\u001b[0m         \u001b[0;31m# return 1 when finished\u001b[0m\u001b[0;34m\u001b[0m\u001b[0;34m\u001b[0m\u001b[0;34m\u001b[0m\u001b[0m\n",
      "\u001b[0;32m~/miniconda3/envs/seminar/lib/python3.7/site-packages/pytorch_lightning/trainer/trainer.py\u001b[0m in \u001b[0;36mrun_pretrain_routine\u001b[0;34m(self, model)\u001b[0m\n\u001b[1;32m    807\u001b[0m                                          \u001b[0mself\u001b[0m\u001b[0;34m.\u001b[0m\u001b[0mval_dataloaders\u001b[0m\u001b[0;34m,\u001b[0m\u001b[0;34m\u001b[0m\u001b[0;34m\u001b[0m\u001b[0m\n\u001b[1;32m    808\u001b[0m                                          \u001b[0mself\u001b[0m\u001b[0;34m.\u001b[0m\u001b[0mnum_sanity_val_steps\u001b[0m\u001b[0;34m,\u001b[0m\u001b[0;34m\u001b[0m\u001b[0;34m\u001b[0m\u001b[0m\n\u001b[0;32m--> 809\u001b[0;31m                                          False)\n\u001b[0m\u001b[1;32m    810\u001b[0m             \u001b[0m_\u001b[0m\u001b[0;34m,\u001b[0m \u001b[0m_\u001b[0m\u001b[0;34m,\u001b[0m \u001b[0m_\u001b[0m\u001b[0;34m,\u001b[0m \u001b[0mcallback_metrics\u001b[0m\u001b[0;34m,\u001b[0m \u001b[0m_\u001b[0m \u001b[0;34m=\u001b[0m \u001b[0mself\u001b[0m\u001b[0;34m.\u001b[0m\u001b[0mprocess_output\u001b[0m\u001b[0;34m(\u001b[0m\u001b[0meval_results\u001b[0m\u001b[0;34m)\u001b[0m\u001b[0;34m\u001b[0m\u001b[0;34m\u001b[0m\u001b[0m\n\u001b[1;32m    811\u001b[0m \u001b[0;34m\u001b[0m\u001b[0m\n",
      "\u001b[0;32m~/miniconda3/envs/seminar/lib/python3.7/site-packages/pytorch_lightning/trainer/evaluation_loop.py\u001b[0m in \u001b[0;36mevaluate\u001b[0;34m(self, model, dataloaders, max_batches, test_mode)\u001b[0m\n\u001b[1;32m    260\u001b[0m                 \u001b[0;31m# RUN EVALUATION STEP\u001b[0m\u001b[0;34m\u001b[0m\u001b[0;34m\u001b[0m\u001b[0;34m\u001b[0m\u001b[0m\n\u001b[1;32m    261\u001b[0m                 \u001b[0;31m# -----------------\u001b[0m\u001b[0;34m\u001b[0m\u001b[0;34m\u001b[0m\u001b[0;34m\u001b[0m\u001b[0m\n\u001b[0;32m--> 262\u001b[0;31m                 \u001b[0moutput\u001b[0m \u001b[0;34m=\u001b[0m \u001b[0mself\u001b[0m\u001b[0;34m.\u001b[0m\u001b[0mevaluation_forward\u001b[0m\u001b[0;34m(\u001b[0m\u001b[0mmodel\u001b[0m\u001b[0;34m,\u001b[0m \u001b[0mbatch\u001b[0m\u001b[0;34m,\u001b[0m \u001b[0mbatch_idx\u001b[0m\u001b[0;34m,\u001b[0m \u001b[0mdataloader_idx\u001b[0m\u001b[0;34m,\u001b[0m \u001b[0mtest_mode\u001b[0m\u001b[0;34m)\u001b[0m\u001b[0;34m\u001b[0m\u001b[0;34m\u001b[0m\u001b[0m\n\u001b[0m\u001b[1;32m    263\u001b[0m \u001b[0;34m\u001b[0m\u001b[0m\n\u001b[1;32m    264\u001b[0m                 \u001b[0;31m# on dp / ddp2 might still want to do something with the batch parts\u001b[0m\u001b[0;34m\u001b[0m\u001b[0;34m\u001b[0m\u001b[0;34m\u001b[0m\u001b[0m\n",
      "\u001b[0;32m~/miniconda3/envs/seminar/lib/python3.7/site-packages/pytorch_lightning/trainer/evaluation_loop.py\u001b[0m in \u001b[0;36mevaluation_forward\u001b[0;34m(self, model, batch, batch_idx, dataloader_idx, test_mode)\u001b[0m\n\u001b[1;32m    437\u001b[0m             \u001b[0moutput\u001b[0m \u001b[0;34m=\u001b[0m \u001b[0mmodel\u001b[0m\u001b[0;34m.\u001b[0m\u001b[0mtest_step\u001b[0m\u001b[0;34m(\u001b[0m\u001b[0;34m*\u001b[0m\u001b[0margs\u001b[0m\u001b[0;34m)\u001b[0m\u001b[0;34m\u001b[0m\u001b[0;34m\u001b[0m\u001b[0m\n\u001b[1;32m    438\u001b[0m         \u001b[0;32melse\u001b[0m\u001b[0;34m:\u001b[0m\u001b[0;34m\u001b[0m\u001b[0;34m\u001b[0m\u001b[0m\n\u001b[0;32m--> 439\u001b[0;31m             \u001b[0moutput\u001b[0m \u001b[0;34m=\u001b[0m \u001b[0mmodel\u001b[0m\u001b[0;34m.\u001b[0m\u001b[0mvalidation_step\u001b[0m\u001b[0;34m(\u001b[0m\u001b[0;34m*\u001b[0m\u001b[0margs\u001b[0m\u001b[0;34m)\u001b[0m\u001b[0;34m\u001b[0m\u001b[0;34m\u001b[0m\u001b[0m\n\u001b[0m\u001b[1;32m    440\u001b[0m \u001b[0;34m\u001b[0m\u001b[0m\n\u001b[1;32m    441\u001b[0m         \u001b[0;32mreturn\u001b[0m \u001b[0moutput\u001b[0m\u001b[0;34m\u001b[0m\u001b[0;34m\u001b[0m\u001b[0m\n",
      "\u001b[0;32m~/PycharmProjects/seminar/learn/cnn.py\u001b[0m in \u001b[0;36mvalidation_step\u001b[0;34m(self, batch, batch_idx)\u001b[0m\n\u001b[1;32m     67\u001b[0m     \u001b[0;32mdef\u001b[0m \u001b[0mvalidation_step\u001b[0m\u001b[0;34m(\u001b[0m\u001b[0mself\u001b[0m\u001b[0;34m,\u001b[0m \u001b[0mbatch\u001b[0m\u001b[0;34m,\u001b[0m \u001b[0mbatch_idx\u001b[0m\u001b[0;34m)\u001b[0m\u001b[0;34m:\u001b[0m\u001b[0;34m\u001b[0m\u001b[0;34m\u001b[0m\u001b[0m\n\u001b[1;32m     68\u001b[0m         \u001b[0mdata\u001b[0m\u001b[0;34m,\u001b[0m \u001b[0mtarget\u001b[0m \u001b[0;34m=\u001b[0m \u001b[0mbatch\u001b[0m\u001b[0;34m\u001b[0m\u001b[0;34m\u001b[0m\u001b[0m\n\u001b[0;32m---> 69\u001b[0;31m         \u001b[0mloss\u001b[0m \u001b[0;34m=\u001b[0m \u001b[0mself\u001b[0m\u001b[0;34m.\u001b[0m\u001b[0mloss\u001b[0m\u001b[0;34m(\u001b[0m\u001b[0minput\u001b[0m\u001b[0;34m=\u001b[0m\u001b[0mself\u001b[0m\u001b[0;34m.\u001b[0m\u001b[0mforward\u001b[0m\u001b[0;34m(\u001b[0m\u001b[0mdata\u001b[0m\u001b[0;34m)\u001b[0m\u001b[0;34m,\u001b[0m \u001b[0mtarget\u001b[0m\u001b[0;34m=\u001b[0m\u001b[0mself\u001b[0m\u001b[0;34m.\u001b[0m\u001b[0mclasses\u001b[0m\u001b[0;34m(\u001b[0m\u001b[0mtarget\u001b[0m\u001b[0;34m)\u001b[0m\u001b[0;34m)\u001b[0m\u001b[0;34m\u001b[0m\u001b[0;34m\u001b[0m\u001b[0m\n\u001b[0m\u001b[1;32m     70\u001b[0m \u001b[0;34m\u001b[0m\u001b[0m\n\u001b[1;32m     71\u001b[0m         \u001b[0mtqdm_dict\u001b[0m \u001b[0;34m=\u001b[0m \u001b[0;34m{\u001b[0m\u001b[0;34m'val_loss'\u001b[0m\u001b[0;34m:\u001b[0m \u001b[0mloss\u001b[0m\u001b[0;34m,\u001b[0m \u001b[0;34m'batch_idx'\u001b[0m\u001b[0;34m:\u001b[0m \u001b[0mbatch_idx\u001b[0m\u001b[0;34m}\u001b[0m\u001b[0;34m\u001b[0m\u001b[0;34m\u001b[0m\u001b[0m\n",
      "\u001b[0;32m~/PycharmProjects/seminar/learn/cnn.py\u001b[0m in \u001b[0;36mforward\u001b[0;34m(self, x)\u001b[0m\n\u001b[1;32m     50\u001b[0m \u001b[0;34m\u001b[0m\u001b[0m\n\u001b[1;32m     51\u001b[0m         \u001b[0moutput\u001b[0m \u001b[0;34m=\u001b[0m \u001b[0;34m[\u001b[0m\u001b[0;34m]\u001b[0m\u001b[0;34m\u001b[0m\u001b[0;34m\u001b[0m\u001b[0m\n\u001b[0;32m---> 52\u001b[0;31m         \u001b[0;32mfor\u001b[0m \u001b[0mt\u001b[0m \u001b[0;32min\u001b[0m \u001b[0mh\u001b[0m\u001b[0;34m.\u001b[0m\u001b[0mshape\u001b[0m\u001b[0;34m[\u001b[0m\u001b[0;36m1\u001b[0m\u001b[0;34m]\u001b[0m\u001b[0;34m:\u001b[0m\u001b[0;34m\u001b[0m\u001b[0;34m\u001b[0m\u001b[0m\n\u001b[0m\u001b[1;32m     53\u001b[0m             \u001b[0moutput\u001b[0m\u001b[0;34m.\u001b[0m\u001b[0mappend\u001b[0m\u001b[0;34m(\u001b[0m\u001b[0mself\u001b[0m\u001b[0;34m.\u001b[0m\u001b[0mconv\u001b[0m\u001b[0;34m(\u001b[0m\u001b[0mh\u001b[0m\u001b[0;34m[\u001b[0m\u001b[0;34m:\u001b[0m\u001b[0;34m,\u001b[0m \u001b[0mt\u001b[0m\u001b[0;34m,\u001b[0m \u001b[0;34m:\u001b[0m\u001b[0;34m,\u001b[0m \u001b[0;34m:\u001b[0m\u001b[0;34m,\u001b[0m \u001b[0;34m:\u001b[0m\u001b[0;34m]\u001b[0m\u001b[0;34m)\u001b[0m\u001b[0;34m)\u001b[0m\u001b[0;34m.\u001b[0m\u001b[0mflatten\u001b[0m\u001b[0;34m(\u001b[0m\u001b[0;36m1\u001b[0m\u001b[0;34m)\u001b[0m\u001b[0;34m\u001b[0m\u001b[0;34m\u001b[0m\u001b[0m\n\u001b[1;32m     54\u001b[0m         \u001b[0;32mreturn\u001b[0m \u001b[0mself\u001b[0m\u001b[0;34m.\u001b[0m\u001b[0mlinear_head\u001b[0m\u001b[0;34m(\u001b[0m\u001b[0mtorch\u001b[0m\u001b[0;34m.\u001b[0m\u001b[0mstack\u001b[0m\u001b[0;34m(\u001b[0m\u001b[0moutput\u001b[0m\u001b[0;34m,\u001b[0m \u001b[0mdim\u001b[0m\u001b[0;34m=\u001b[0m\u001b[0;36m1\u001b[0m\u001b[0;34m)\u001b[0m\u001b[0;34m)\u001b[0m\u001b[0;34m\u001b[0m\u001b[0;34m\u001b[0m\u001b[0m\n",
      "\u001b[0;31mTypeError\u001b[0m: 'int' object is not iterable"
     ]
    }
   ],
   "source": [
    "trainer = Trainer(check_val_every_n_epoch=2)\n",
    "trainer.fit(lstm)"
   ]
  },
  {
   "cell_type": "code",
   "execution_count": null,
   "metadata": {},
   "outputs": [],
   "source": []
  }
 ],
 "metadata": {
  "kernelspec": {
   "display_name": "Python 3",
   "language": "python",
   "name": "python3"
  },
  "language_info": {
   "codemirror_mode": {
    "name": "ipython",
    "version": 3
   },
   "file_extension": ".py",
   "mimetype": "text/x-python",
   "name": "python",
   "nbconvert_exporter": "python",
   "pygments_lexer": "ipython3",
   "version": "3.7.6"
  }
 },
 "nbformat": 4,
 "nbformat_minor": 4
}
